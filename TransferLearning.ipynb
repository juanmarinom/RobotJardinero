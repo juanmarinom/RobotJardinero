{
  "nbformat": 4,
  "nbformat_minor": 0,
  "metadata": {
    "colab": {
      "name": "TransferLearning.ipynb",
      "provenance": [],
      "collapsed_sections": [],
      "toc_visible": true,
      "authorship_tag": "ABX9TyN4ARF/YZsEV1LO7gkWA/tg",
      "include_colab_link": true
    },
    "kernelspec": {
      "name": "python3",
      "display_name": "Python 3"
    },
    "accelerator": "GPU"
  },
  "cells": [
    {
      "cell_type": "markdown",
      "metadata": {
        "id": "view-in-github",
        "colab_type": "text"
      },
      "source": [
        "<a href=\"https://colab.research.google.com/github/juanmarinom/RobotJardinero/blob/Vision/TransferLearning.ipynb\" target=\"_parent\"><img src=\"https://colab.research.google.com/assets/colab-badge.svg\" alt=\"Open In Colab\"/></a>"
      ]
    },
    {
      "cell_type": "markdown",
      "metadata": {
        "id": "LLLehlxU44Ks",
        "colab_type": "text"
      },
      "source": [
        "#Versión 2.0\n",
        "\n",
        "Una vez probados los resultados con una red neuronal entrenada desde cero, se va a tratar de mejorar sensiblemente los resultados de la clasificación. El dataset del que se dispone es bastante pequeño para este tipo de entrenamientos (alrededor de 300 imágenes por clase), por lo que se hará uso de la técnica *Transfer Learning*.\n",
        "\n",
        "Primero, se instalan las dependecias necesarias y se importan los datos:\n"
      ]
    },
    {
      "cell_type": "code",
      "metadata": {
        "id": "2jFHiYvD58d8",
        "colab_type": "code",
        "colab": {
          "base_uri": "https://localhost:8080/",
          "height": 818
        },
        "outputId": "0cf46cab-a56a-4948-9053-453e147b2679"
      },
      "source": [
        "!pip install tensorflow\n",
        "!pip install keras==2.3.1\n"
      ],
      "execution_count": 4,
      "outputs": [
        {
          "output_type": "stream",
          "text": [
            "Requirement already satisfied: tensorflow in /usr/local/lib/python3.6/dist-packages (2.2.0rc2)\n",
            "Requirement already satisfied: tensorboard<2.3.0,>=2.2.0 in /usr/local/lib/python3.6/dist-packages (from tensorflow) (2.2.0)\n",
            "Requirement already satisfied: h5py<2.11.0,>=2.10.0 in /usr/local/lib/python3.6/dist-packages (from tensorflow) (2.10.0)\n",
            "Requirement already satisfied: numpy<2.0,>=1.16.0 in /usr/local/lib/python3.6/dist-packages (from tensorflow) (1.18.2)\n",
            "Requirement already satisfied: wrapt>=1.11.1 in /usr/local/lib/python3.6/dist-packages (from tensorflow) (1.12.1)\n",
            "Requirement already satisfied: termcolor>=1.1.0 in /usr/local/lib/python3.6/dist-packages (from tensorflow) (1.1.0)\n",
            "Requirement already satisfied: wheel>=0.26; python_version >= \"3\" in /usr/local/lib/python3.6/dist-packages (from tensorflow) (0.34.2)\n",
            "Requirement already satisfied: gast==0.3.3 in /usr/local/lib/python3.6/dist-packages (from tensorflow) (0.3.3)\n",
            "Requirement already satisfied: protobuf>=3.8.0 in /usr/local/lib/python3.6/dist-packages (from tensorflow) (3.10.0)\n",
            "Requirement already satisfied: tensorflow-estimator<2.3.0,>=2.2.0rc0 in /usr/local/lib/python3.6/dist-packages (from tensorflow) (2.2.0rc0)\n",
            "Requirement already satisfied: absl-py>=0.7.0 in /usr/local/lib/python3.6/dist-packages (from tensorflow) (0.9.0)\n",
            "Requirement already satisfied: six>=1.12.0 in /usr/local/lib/python3.6/dist-packages (from tensorflow) (1.12.0)\n",
            "Requirement already satisfied: keras-preprocessing>=1.1.0 in /usr/local/lib/python3.6/dist-packages (from tensorflow) (1.1.0)\n",
            "Requirement already satisfied: scipy==1.4.1; python_version >= \"3\" in /usr/local/lib/python3.6/dist-packages (from tensorflow) (1.4.1)\n",
            "Requirement already satisfied: astunparse==1.6.3 in /usr/local/lib/python3.6/dist-packages (from tensorflow) (1.6.3)\n",
            "Requirement already satisfied: google-pasta>=0.1.8 in /usr/local/lib/python3.6/dist-packages (from tensorflow) (0.2.0)\n",
            "Requirement already satisfied: grpcio>=1.8.6 in /usr/local/lib/python3.6/dist-packages (from tensorflow) (1.28.1)\n",
            "Requirement already satisfied: opt-einsum>=2.3.2 in /usr/local/lib/python3.6/dist-packages (from tensorflow) (3.2.0)\n",
            "Requirement already satisfied: google-auth-oauthlib<0.5,>=0.4.1 in /usr/local/lib/python3.6/dist-packages (from tensorboard<2.3.0,>=2.2.0->tensorflow) (0.4.1)\n",
            "Requirement already satisfied: setuptools>=41.0.0 in /usr/local/lib/python3.6/dist-packages (from tensorboard<2.3.0,>=2.2.0->tensorflow) (46.1.3)\n",
            "Requirement already satisfied: werkzeug>=0.11.15 in /usr/local/lib/python3.6/dist-packages (from tensorboard<2.3.0,>=2.2.0->tensorflow) (1.0.1)\n",
            "Requirement already satisfied: google-auth<2,>=1.6.3 in /usr/local/lib/python3.6/dist-packages (from tensorboard<2.3.0,>=2.2.0->tensorflow) (1.7.2)\n",
            "Requirement already satisfied: markdown>=2.6.8 in /usr/local/lib/python3.6/dist-packages (from tensorboard<2.3.0,>=2.2.0->tensorflow) (3.2.1)\n",
            "Requirement already satisfied: tensorboard-plugin-wit>=1.6.0 in /usr/local/lib/python3.6/dist-packages (from tensorboard<2.3.0,>=2.2.0->tensorflow) (1.6.0.post3)\n",
            "Requirement already satisfied: requests<3,>=2.21.0 in /usr/local/lib/python3.6/dist-packages (from tensorboard<2.3.0,>=2.2.0->tensorflow) (2.21.0)\n",
            "Requirement already satisfied: requests-oauthlib>=0.7.0 in /usr/local/lib/python3.6/dist-packages (from google-auth-oauthlib<0.5,>=0.4.1->tensorboard<2.3.0,>=2.2.0->tensorflow) (1.3.0)\n",
            "Requirement already satisfied: rsa<4.1,>=3.1.4 in /usr/local/lib/python3.6/dist-packages (from google-auth<2,>=1.6.3->tensorboard<2.3.0,>=2.2.0->tensorflow) (4.0)\n",
            "Requirement already satisfied: pyasn1-modules>=0.2.1 in /usr/local/lib/python3.6/dist-packages (from google-auth<2,>=1.6.3->tensorboard<2.3.0,>=2.2.0->tensorflow) (0.2.8)\n",
            "Requirement already satisfied: cachetools<3.2,>=2.0.0 in /usr/local/lib/python3.6/dist-packages (from google-auth<2,>=1.6.3->tensorboard<2.3.0,>=2.2.0->tensorflow) (3.1.1)\n",
            "Requirement already satisfied: idna<2.9,>=2.5 in /usr/local/lib/python3.6/dist-packages (from requests<3,>=2.21.0->tensorboard<2.3.0,>=2.2.0->tensorflow) (2.8)\n",
            "Requirement already satisfied: chardet<3.1.0,>=3.0.2 in /usr/local/lib/python3.6/dist-packages (from requests<3,>=2.21.0->tensorboard<2.3.0,>=2.2.0->tensorflow) (3.0.4)\n",
            "Requirement already satisfied: certifi>=2017.4.17 in /usr/local/lib/python3.6/dist-packages (from requests<3,>=2.21.0->tensorboard<2.3.0,>=2.2.0->tensorflow) (2020.4.5.1)\n",
            "Requirement already satisfied: urllib3<1.25,>=1.21.1 in /usr/local/lib/python3.6/dist-packages (from requests<3,>=2.21.0->tensorboard<2.3.0,>=2.2.0->tensorflow) (1.24.3)\n",
            "Requirement already satisfied: oauthlib>=3.0.0 in /usr/local/lib/python3.6/dist-packages (from requests-oauthlib>=0.7.0->google-auth-oauthlib<0.5,>=0.4.1->tensorboard<2.3.0,>=2.2.0->tensorflow) (3.1.0)\n",
            "Requirement already satisfied: pyasn1>=0.1.3 in /usr/local/lib/python3.6/dist-packages (from rsa<4.1,>=3.1.4->google-auth<2,>=1.6.3->tensorboard<2.3.0,>=2.2.0->tensorflow) (0.4.8)\n",
            "Requirement already satisfied: keras==2.3.1 in /usr/local/lib/python3.6/dist-packages (2.3.1)\n",
            "Requirement already satisfied: keras-preprocessing>=1.0.5 in /usr/local/lib/python3.6/dist-packages (from keras==2.3.1) (1.1.0)\n",
            "Requirement already satisfied: numpy>=1.9.1 in /usr/local/lib/python3.6/dist-packages (from keras==2.3.1) (1.18.2)\n",
            "Requirement already satisfied: six>=1.9.0 in /usr/local/lib/python3.6/dist-packages (from keras==2.3.1) (1.12.0)\n",
            "Requirement already satisfied: keras-applications>=1.0.6 in /usr/local/lib/python3.6/dist-packages (from keras==2.3.1) (1.0.8)\n",
            "Requirement already satisfied: pyyaml in /usr/local/lib/python3.6/dist-packages (from keras==2.3.1) (3.13)\n",
            "Requirement already satisfied: scipy>=0.14 in /usr/local/lib/python3.6/dist-packages (from keras==2.3.1) (1.4.1)\n",
            "Requirement already satisfied: h5py in /usr/local/lib/python3.6/dist-packages (from keras==2.3.1) (2.10.0)\n"
          ],
          "name": "stdout"
        }
      ]
    },
    {
      "cell_type": "code",
      "metadata": {
        "id": "COEbyS_U7f4p",
        "colab_type": "code",
        "outputId": "5c87665d-6b67-43d5-ebcc-ba2067fb0801",
        "colab": {
          "base_uri": "https://localhost:8080/",
          "height": 108
        }
      },
      "source": [
        "from google.colab import drive\n",
        "drive.mount('/content/drive/')\n",
        "!unzip '/content/drive/My Drive/flowers.zip' -d '/content/flower_data'"
      ],
      "execution_count": 5,
      "outputs": [
        {
          "output_type": "stream",
          "text": [
            "Drive already mounted at /content/drive/; to attempt to forcibly remount, call drive.mount(\"/content/drive/\", force_remount=True).\n",
            "Archive:  /content/drive/My Drive/flowers.zip\n",
            "replace /content/flower_data/tulips/100930342_92e8746431_n.jpg? [y]es, [n]o, [A]ll, [N]one, [r]ename: n\n",
            "replace /content/flower_data/tulips/10094729603_eeca3f2cb6.jpg? [y]es, [n]o, [A]ll, [N]one, [r]ename: n\n",
            "replace /content/flower_data/tulips/10094731133_94a942463c.jpg? [y]es, [n]o, [A]ll, [N]one, [r]ename: N\n"
          ],
          "name": "stdout"
        }
      ]
    },
    {
      "cell_type": "markdown",
      "metadata": {
        "id": "mdHf3_CU6IqN",
        "colab_type": "text"
      },
      "source": [
        "Después, se importa el VGG16, una red neuronal convolucional propuesta por K. Simonyan y A. Zisserman. Este modelo consigue un 92.7% de precisión en ImageNet, un dataset con más de 14 millones de imágenes pertenecientes a 1000 clases."
      ]
    },
    {
      "cell_type": "code",
      "metadata": {
        "id": "5sdtFhaL4yVz",
        "colab_type": "code",
        "outputId": "0e6ab782-6e63-4750-cd72-697263eed546",
        "colab": {
          "base_uri": "https://localhost:8080/",
          "height": 1000
        }
      },
      "source": [
        "import numpy as np\n",
        "from keras.applications import VGG16\n",
        "from keras.applications.vgg16 import preprocess_input\n",
        "from keras.preprocessing.image import ImageDataGenerator\n",
        "from keras.models import Sequential\n",
        "from keras.layers import Dense, Flatten\n",
        "from keras.layers import Conv2D, MaxPooling2D, Dropout\n",
        "from keras import optimizers\n",
        "\n",
        "train_datagen=ImageDataGenerator(rescale=1./255.,\n",
        "                                 #rotation_range=40,\n",
        "                                 #width_shift_range=0.2,\n",
        "                                 #height_shift_range=0.2,\n",
        "                                 #shear_range=0.2,\n",
        "                                 #zoom_range=0.2,\n",
        "                                 #horizontal_flip=True,\n",
        "                                 #fill_mode=\"nearest\",\n",
        "                                 validation_split=0.2,\n",
        "                                 preprocessing_function=preprocess_input)\n",
        "\n",
        "train_generator = train_datagen.flow_from_directory('/content/flower_data',\n",
        "                                                    target_size=(150,150), #to meet VGG requirements\n",
        "                                                    color_mode='rgb',\n",
        "                                                    batch_size=16,\n",
        "                                                    class_mode='categorical',\n",
        "                                                    subset='training')\n",
        "validation_generator = train_datagen.flow_from_directory('/content/flower_data',\n",
        "                                                         target_size=(150,150),\n",
        "                                                         color_mode='rgb',\n",
        "                                                         batch_size=16,\n",
        "                                                         class_mode='categorical',\n",
        "                                                         subset='validation')\n",
        "\n",
        "#Como base, tomaremos el VGG16, con casi 15 millones de parámetros entrenables\n",
        "base_model=VGG16(weights=\"imagenet\",\n",
        "                 include_top=False, \n",
        "                 input_shape=(150,150,3))\n",
        "\n",
        "\n",
        "#Se añade una última capa (Fully Connected), que será la que se entrenará con las imágenes\n",
        "modeloPropio = Sequential()\n",
        "modeloPropio.add(base_model)\n",
        "\n",
        "modeloPropio.add(Flatten())\n",
        "modeloPropio.add(Dense(units=64,activation=\"relu\"))\n",
        "#modeloPropio.add(Dropout(0.5))\n",
        "modeloPropio.add(Dense(units=32,activation=\"relu\"))\n",
        "modeloPropio.add(Dense(units=16,activation=\"relu\"))\n",
        "modeloPropio.add(Dense(5, activation=\"softmax\"))\n",
        "\n",
        "#Establecemos que el modelo de VGG16 ya está entrenado, por lo que se deshabilita como parte del entrenamiento\n",
        "base_model.trainable=False\n",
        "\n",
        "#custom optimizer\n",
        "sgd = optimizers.SGD(lr=0.01, decay=1e-3, momentum=0.9, nesterov=True)\n",
        "\n",
        "modeloPropio.compile(loss=\"categorical_crossentropy\", optimizer=\"adam\", metrics=[\"accuracy\"])\n",
        "\n",
        "#step size\n",
        "step_size_train = train_generator.n//train_generator.batch_size\n",
        "step_size_valid = validation_generator.n//validation_generator.batch_size\n",
        "\n",
        "\n",
        "\n",
        "#fit the model\n",
        "history = modeloPropio.fit_generator(train_generator,\n",
        "                                     steps_per_epoch=step_size_train,\n",
        "                                     epochs=30,\n",
        "                                     validation_data=validation_generator,\n",
        "                                     validation_steps=step_size_valid,\n",
        "                                     shuffle = True)"
      ],
      "execution_count": 10,
      "outputs": [
        {
          "output_type": "stream",
          "text": [
            "Found 2939 images belonging to 5 classes.\n",
            "Found 731 images belonging to 5 classes.\n",
            "Epoch 1/30\n",
            "183/183 [==============================] - 14s 78ms/step - loss: 0.9620 - accuracy: 0.6312 - val_loss: 1.0868 - val_accuracy: 0.7389\n",
            "Epoch 2/30\n",
            "183/183 [==============================] - 14s 79ms/step - loss: 0.5034 - accuracy: 0.8149 - val_loss: 0.3909 - val_accuracy: 0.7720\n",
            "Epoch 3/30\n",
            "183/183 [==============================] - 14s 79ms/step - loss: 0.3516 - accuracy: 0.8720 - val_loss: 0.2153 - val_accuracy: 0.8042\n",
            "Epoch 4/30\n",
            "183/183 [==============================] - 14s 79ms/step - loss: 0.2081 - accuracy: 0.9264 - val_loss: 0.5097 - val_accuracy: 0.7902\n",
            "Epoch 5/30\n",
            "183/183 [==============================] - 14s 79ms/step - loss: 0.1341 - accuracy: 0.9552 - val_loss: 0.2107 - val_accuracy: 0.8140\n",
            "Epoch 6/30\n",
            "183/183 [==============================] - 14s 78ms/step - loss: 0.0785 - accuracy: 0.9743 - val_loss: 0.8305 - val_accuracy: 0.8014\n",
            "Epoch 7/30\n",
            "183/183 [==============================] - 14s 77ms/step - loss: 0.0497 - accuracy: 0.9867 - val_loss: 0.4825 - val_accuracy: 0.8084\n",
            "Epoch 8/30\n",
            "183/183 [==============================] - 14s 77ms/step - loss: 0.0277 - accuracy: 0.9935 - val_loss: 0.7055 - val_accuracy: 0.8028\n",
            "Epoch 9/30\n",
            "183/183 [==============================] - 14s 76ms/step - loss: 0.0107 - accuracy: 0.9993 - val_loss: 1.6446 - val_accuracy: 0.8014\n",
            "Epoch 10/30\n",
            "183/183 [==============================] - 14s 76ms/step - loss: 0.0047 - accuracy: 1.0000 - val_loss: 0.7638 - val_accuracy: 0.8224\n",
            "Epoch 11/30\n",
            "183/183 [==============================] - 14s 77ms/step - loss: 0.0027 - accuracy: 1.0000 - val_loss: 1.3166 - val_accuracy: 0.8280\n",
            "Epoch 12/30\n",
            "183/183 [==============================] - 14s 75ms/step - loss: 0.0014 - accuracy: 1.0000 - val_loss: 1.1998 - val_accuracy: 0.8210\n",
            "Epoch 13/30\n",
            "183/183 [==============================] - 14s 75ms/step - loss: 0.0018 - accuracy: 1.0000 - val_loss: 2.1552 - val_accuracy: 0.8378\n",
            "Epoch 14/30\n",
            "183/183 [==============================] - 14s 74ms/step - loss: 8.0889e-04 - accuracy: 1.0000 - val_loss: 0.2818 - val_accuracy: 0.8294\n",
            "Epoch 15/30\n",
            "183/183 [==============================] - 14s 74ms/step - loss: 5.1095e-04 - accuracy: 1.0000 - val_loss: 0.6900 - val_accuracy: 0.8182\n",
            "Epoch 16/30\n",
            "183/183 [==============================] - 14s 75ms/step - loss: 4.2260e-04 - accuracy: 1.0000 - val_loss: 0.7440 - val_accuracy: 0.8182\n",
            "Epoch 17/30\n",
            "183/183 [==============================] - 14s 75ms/step - loss: 3.1139e-04 - accuracy: 1.0000 - val_loss: 0.7172 - val_accuracy: 0.8238\n",
            "Epoch 18/30\n",
            "183/183 [==============================] - 14s 74ms/step - loss: 2.6404e-04 - accuracy: 1.0000 - val_loss: 0.0528 - val_accuracy: 0.8126\n",
            "Epoch 19/30\n",
            "183/183 [==============================] - 14s 75ms/step - loss: 2.0596e-04 - accuracy: 1.0000 - val_loss: 0.9302 - val_accuracy: 0.8294\n",
            "Epoch 20/30\n",
            "183/183 [==============================] - 14s 75ms/step - loss: 1.7997e-04 - accuracy: 1.0000 - val_loss: 0.1564 - val_accuracy: 0.8168\n",
            "Epoch 21/30\n",
            "183/183 [==============================] - 14s 75ms/step - loss: 1.4410e-04 - accuracy: 1.0000 - val_loss: 2.7562 - val_accuracy: 0.8350\n",
            "Epoch 22/30\n",
            "183/183 [==============================] - 14s 75ms/step - loss: 1.3067e-04 - accuracy: 1.0000 - val_loss: 0.1937 - val_accuracy: 0.8364\n",
            "Epoch 23/30\n",
            "183/183 [==============================] - 14s 75ms/step - loss: 1.0682e-04 - accuracy: 1.0000 - val_loss: 2.4785 - val_accuracy: 0.8308\n",
            "Epoch 24/30\n",
            "183/183 [==============================] - 14s 75ms/step - loss: 9.4915e-05 - accuracy: 1.0000 - val_loss: 1.1560 - val_accuracy: 0.8112\n",
            "Epoch 25/30\n",
            "183/183 [==============================] - 14s 75ms/step - loss: 8.2068e-05 - accuracy: 1.0000 - val_loss: 1.0913 - val_accuracy: 0.8308\n",
            "Epoch 26/30\n",
            "183/183 [==============================] - 14s 77ms/step - loss: 7.3804e-05 - accuracy: 1.0000 - val_loss: 2.1759 - val_accuracy: 0.7944\n",
            "Epoch 27/30\n",
            "183/183 [==============================] - 14s 76ms/step - loss: 6.3557e-05 - accuracy: 1.0000 - val_loss: 0.3804 - val_accuracy: 0.8420\n",
            "Epoch 28/30\n",
            "183/183 [==============================] - 14s 75ms/step - loss: 5.6930e-05 - accuracy: 1.0000 - val_loss: 1.4492 - val_accuracy: 0.8196\n",
            "Epoch 29/30\n",
            "183/183 [==============================] - 14s 74ms/step - loss: 4.8595e-05 - accuracy: 1.0000 - val_loss: 0.2825 - val_accuracy: 0.8322\n",
            "Epoch 30/30\n",
            "183/183 [==============================] - 14s 75ms/step - loss: 4.4157e-05 - accuracy: 1.0000 - val_loss: 2.2498 - val_accuracy: 0.7986\n"
          ],
          "name": "stdout"
        }
      ]
    },
    {
      "cell_type": "code",
      "metadata": {
        "id": "k-MsZ0hENgF1",
        "colab_type": "code",
        "colab": {
          "base_uri": "https://localhost:8080/",
          "height": 573
        },
        "outputId": "d1a54517-606c-4855-b35c-58763a59b5e4"
      },
      "source": [
        "import matplotlib.pyplot as plt\n",
        "%matplotlib inline\n",
        "\n",
        "# Plot training & validation accuracy values\n",
        "plt.plot(history.history['loss'])\n",
        "plt.plot(history.history['val_loss'])\n",
        "plt.title('Model loss')\n",
        "plt.ylabel('Loss')\n",
        "plt.xlabel('Epoch')\n",
        "plt.legend(['Train', 'Test'], loc='upper left')\n",
        "plt.show()\n",
        "\n",
        "plt.plot(history.history['accuracy'])\n",
        "plt.plot(history.history['val_accuracy'])\n",
        "plt.title('Model Accuracy')\n",
        "plt.ylabel('Accuracy')\n",
        "plt.xlabel('Epoch')\n",
        "plt.legend(['Train', 'Test'], loc='upper left')\n",
        "plt.show()"
      ],
      "execution_count": 3,
      "outputs": [
        {
          "output_type": "display_data",
          "data": {
            "image/png": "[encoded data removed]",
            "text/plain": [
              "<Figure size 432x288 with 1 Axes>"
            ]
          },
          "metadata": {
            "tags": [],
            "needs_background": "light"
          }
        },
        {
          "output_type": "display_data",
          "data": {
            "image/png": "[encoded data removed]",
            "text/plain": [
              "<Figure size 432x288 with 1 Axes>"
            ]
          },
          "metadata": {
            "tags": [],
            "needs_background": "light"
          }
        }
      ]
    },
    {
      "cell_type": "code",
      "metadata": {
        "id": "MkpSH206M1ka",
        "colab_type": "code",
        "colab": {}
      },
      "source": [
        "import os\n",
        "# Guardar el Modelo\n",
        "modeloPropio.save('/content/drive/My Drive/TF_85.h5')\n"
      ],
      "execution_count": 0,
      "outputs": []
    }
  ]
}